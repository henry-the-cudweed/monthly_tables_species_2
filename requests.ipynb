{
 "cells": [
  {
   "cell_type": "code",
   "execution_count": 1,
   "metadata": {},
   "outputs": [
    {
     "name": "stdout",
     "output_type": "stream",
     "text": [
      "             Scientific name          Common names    Rating Alert CDFA Hort  \\\n",
      "0           Acacia baileyana    cootamundra wattle     Watch               ✔   \n",
      "1             Acacia cyclops        cyclops Acacia     Watch                   \n",
      "2            Acacia dealbata         silver wattle  Moderate               ✔   \n",
      "3          Acacia longifolia  Sydney golden wattle     Watch               ✔   \n",
      "4         Acacia melanoxylon      blackwood Acacia   Limited               ✔   \n",
      "..                       ...                   ...       ...   ...  ...  ...   \n",
      "316     Washingtonia robusta      Mexican fan palm  Moderate     ◆         ✔   \n",
      "317         Watsonia meriana       bulbil Watsonia   Limited               ✔   \n",
      "318  Zantedeschia aethiopica            calla lily   Limited               ✔   \n",
      "319         Zostera japonica        dwarf eelgrass  Moderate     ◆   -*        \n",
      "320       Zygophyllum fabago      Syrian beancaper     Watch         -*        \n",
      "\n",
      "    CWM ID card PAF/PRE  \n",
      "0                        \n",
      "1                        \n",
      "2                        \n",
      "3                        \n",
      "4                        \n",
      "..   ..     ...     ...  \n",
      "316                      \n",
      "317                      \n",
      "318                      \n",
      "319                      \n",
      "320                      \n",
      "\n",
      "[321 rows x 9 columns]\n",
      "Table data exported to cal_ipc_plants_inventory.csv\n"
     ]
    }
   ],
   "source": [
    "import requests\n",
    "from bs4 import BeautifulSoup\n",
    "import pandas as pd\n",
    "\n",
    "# Send a GET request to the URL\n",
    "url = 'https://www.cal-ipc.org/plants/inventory'\n",
    "response = requests.get(url)\n",
    "\n",
    "# Check if the request was successful (status code 200)\n",
    "if response.status_code == 200:\n",
    "    # Parse the HTML content\n",
    "    soup = BeautifulSoup(response.content, 'html.parser')\n",
    "    \n",
    "    # Find the table element with class 'paf-list' and id 'paftable'\n",
    "    table = soup.find('table', class_='paf-list', id='paftable')\n",
    "    \n",
    "    # Extract table headers\n",
    "    headers = [th.text.strip() for th in table.find('thead').find_all('th')]\n",
    "    \n",
    "    # Extract table rows\n",
    "    rows = []\n",
    "    for tr in table.find('tbody').find_all('tr'):\n",
    "        rows.append([td.text.strip() for td in tr.find_all('td')])\n",
    "    \n",
    "    # Create a DataFrame from the extracted data\n",
    "    df = pd.DataFrame(rows, columns=headers)\n",
    "    \n",
    "    # Print the DataFrame\n",
    "    print(df)\n",
    "    \n",
    "    # Export the DataFrame to a CSV file\n",
    "    df.to_csv('cal_ipc_plants_inventory.csv', index=False)\n",
    "    \n",
    "    print(\"Table data exported to cal_ipc_plants_inventory.csv\")\n",
    "else:\n",
    "    print(\"Failed to retrieve data from the URL\")"
   ]
  }
 ],
 "metadata": {
  "kernelspec": {
   "display_name": "Python 3",
   "language": "python",
   "name": "python3"
  },
  "language_info": {
   "codemirror_mode": {
    "name": "ipython",
    "version": 3
   },
   "file_extension": ".py",
   "mimetype": "text/x-python",
   "name": "python",
   "nbconvert_exporter": "python",
   "pygments_lexer": "ipython3",
   "version": "3.11.4"
  }
 },
 "nbformat": 4,
 "nbformat_minor": 2
}

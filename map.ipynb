{
 "cells": [
  {
   "cell_type": "code",
   "execution_count": 11,
   "metadata": {},
   "outputs": [
    {
     "ename": "FileNotFoundError",
     "evalue": "[Errno 2] No such file or directory: 'GIS data/rshape.geojson'",
     "output_type": "error",
     "traceback": [
      "\u001b[1;31m---------------------------------------------------------------------------\u001b[0m",
      "\u001b[1;31mFileNotFoundError\u001b[0m                         Traceback (most recent call last)",
      "\u001b[1;32mc:\\Users\\henry.inman\\coding\\monthly_tables_species\\map.ipynb Cell 1\u001b[0m line \u001b[0;36m5\n\u001b[0;32m      <a href='vscode-notebook-cell:/c%3A/Users/henry.inman/coding/monthly_tables_species/map.ipynb#W0sZmlsZQ%3D%3D?line=1'>2</a>\u001b[0m \u001b[39mfrom\u001b[39;00m \u001b[39mshapely\u001b[39;00m\u001b[39m.\u001b[39;00m\u001b[39mgeometry\u001b[39;00m \u001b[39mimport\u001b[39;00m shape, Polygon\n\u001b[0;32m      <a href='vscode-notebook-cell:/c%3A/Users/henry.inman/coding/monthly_tables_species/map.ipynb#W0sZmlsZQ%3D%3D?line=3'>4</a>\u001b[0m \u001b[39m# Read the outline polygon and habitat polygons from GeoJSON files\u001b[39;00m\n\u001b[1;32m----> <a href='vscode-notebook-cell:/c%3A/Users/henry.inman/coding/monthly_tables_species/map.ipynb#W0sZmlsZQ%3D%3D?line=4'>5</a>\u001b[0m \u001b[39mwith\u001b[39;00m \u001b[39mopen\u001b[39;49m(\u001b[39m'\u001b[39;49m\u001b[39mGIS data/rshape.geojson\u001b[39;49m\u001b[39m'\u001b[39;49m) \u001b[39mas\u001b[39;00m f:\n\u001b[0;32m      <a href='vscode-notebook-cell:/c%3A/Users/henry.inman/coding/monthly_tables_species/map.ipynb#W0sZmlsZQ%3D%3D?line=5'>6</a>\u001b[0m     outline_data \u001b[39m=\u001b[39m json\u001b[39m.\u001b[39mload(f)\n\u001b[0;32m      <a href='vscode-notebook-cell:/c%3A/Users/henry.inman/coding/monthly_tables_species/map.ipynb#W0sZmlsZQ%3D%3D?line=7'>8</a>\u001b[0m \u001b[39mwith\u001b[39;00m \u001b[39mopen\u001b[39m(\u001b[39m'\u001b[39m\u001b[39mGIS data/mgp_veg_clip.geojson\u001b[39m\u001b[39m'\u001b[39m) \u001b[39mas\u001b[39;00m f:\n",
      "File \u001b[1;32m~\\AppData\\Roaming\\Python\\Python311\\site-packages\\IPython\\core\\interactiveshell.py:284\u001b[0m, in \u001b[0;36m_modified_open\u001b[1;34m(file, *args, **kwargs)\u001b[0m\n\u001b[0;32m    277\u001b[0m \u001b[39mif\u001b[39;00m file \u001b[39min\u001b[39;00m {\u001b[39m0\u001b[39m, \u001b[39m1\u001b[39m, \u001b[39m2\u001b[39m}:\n\u001b[0;32m    278\u001b[0m     \u001b[39mraise\u001b[39;00m \u001b[39mValueError\u001b[39;00m(\n\u001b[0;32m    279\u001b[0m         \u001b[39mf\u001b[39m\u001b[39m\"\u001b[39m\u001b[39mIPython won\u001b[39m\u001b[39m'\u001b[39m\u001b[39mt let you open fd=\u001b[39m\u001b[39m{\u001b[39;00mfile\u001b[39m}\u001b[39;00m\u001b[39m by default \u001b[39m\u001b[39m\"\u001b[39m\n\u001b[0;32m    280\u001b[0m         \u001b[39m\"\u001b[39m\u001b[39mas it is likely to crash IPython. If you know what you are doing, \u001b[39m\u001b[39m\"\u001b[39m\n\u001b[0;32m    281\u001b[0m         \u001b[39m\"\u001b[39m\u001b[39myou can use builtins\u001b[39m\u001b[39m'\u001b[39m\u001b[39m open.\u001b[39m\u001b[39m\"\u001b[39m\n\u001b[0;32m    282\u001b[0m     )\n\u001b[1;32m--> 284\u001b[0m \u001b[39mreturn\u001b[39;00m io_open(file, \u001b[39m*\u001b[39;49margs, \u001b[39m*\u001b[39;49m\u001b[39m*\u001b[39;49mkwargs)\n",
      "\u001b[1;31mFileNotFoundError\u001b[0m: [Errno 2] No such file or directory: 'GIS data/rshape.geojson'"
     ]
    }
   ],
   "source": [
    "import json\n",
    "from shapely.geometry import shape, Polygon\n",
    "\n",
    "# Read the outline polygon and habitat polygons from GeoJSON files\n",
    "with open('GIS data/rshape.json') as f:\n",
    "    outline_data = json.load(f)\n",
    "\n",
    "with open('GIS data/mgp_veg_clip.json') as f:\n",
    "    habitat_data = json.load(f)\n",
    "\n",
    "\n",
    "\n",
    "# Extract the geometry of the outline polygon\n",
    "outline_polygon = shape(outline_data['features'][0]['geometry'])\n",
    "\n",
    "# Initialize a set to store unique habitat types\n",
    "unique_habitats = set()\n",
    "\n",
    "# Iterate through habitat polygons\n",
    "for feature in habitat_data['features']:\n",
    "    habitat_polygon = shape(feature['geometry'])\n",
    "    \n",
    "    # Check if habitat polygon intersects with outline polygon\n",
    "    if habitat_polygon.intersects(outline_polygon):\n",
    "        # Extract habitat type\n",
    "        habitat_type = feature['properties']['MAP_CLASS_18']\n",
    "        unique_habitats.add(habitat_type)\n",
    "\n",
    "# Print unique habitat types found within the outline polygon\n",
    "print(\"Unique habitats inside the outline polygon:\")\n",
    "for habitat in unique_habitats:\n",
    "    print(habitat)"
   ]
  },
  {
   "cell_type": "code",
   "execution_count": 23,
   "metadata": {},
   "outputs": [
    {
     "name": "stdout",
     "output_type": "stream",
     "text": [
      "Pseudotsuga menziesii â€“ (Notholithocarpus densiflorus â€“ Arbutus menziesii) Alliance\n",
      "Californian Cliff, Scree & Rock Vegetation Group\n",
      "Sarcocornia pacifica (Salicornia depressa) Alliance\n",
      "Salix lasiolepis Alliance\n",
      "Water\n",
      "Spartina foliosa Association\n",
      "Mudflat/Dry Pond Bottom Mapping Unit\n",
      "Baccharis pilularis Alliance\n",
      "Acer macrophyllum â€“ Alnus rubra Alliance\n",
      "Quercus wislizeni â€“ Quercus chrysolepis (shrub) Alliance\n",
      "Californian Annual & Perennial Grassland Mapping Unit\n",
      "Developed\n",
      "Arid West Freshwater Marsh Group\n",
      "Frangula californica ssp. californica â€“ Baccharis pilularis / Scrophularia californica Association\n",
      "Channel\n",
      "Barren and Sparsely Vegetated\n",
      "Arctostaphylos glandulosa Alliance\n",
      "Shrub Fragment\n",
      "Distichlis spicata Alliance\n",
      "Sequoia sempervirens Alliance\n",
      "Bolboschoenus maritimus Alliance\n",
      "Grindelia stricta Provisional Association\n",
      "Umbellularia californica Alliance\n",
      "Major Road\n",
      "Quercus agrifolia Alliance\n"
     ]
    }
   ],
   "source": [
    "import json\n",
    "import pandas\n",
    "\n",
    "# Load the GeoJSON file\n",
    "with open('GIS data\\mgp_veg_clip.geojson') as f:\n",
    "    data = json.load(f)\n",
    "\n",
    "# Extract unique values of \"MAP_CLASS_18\" property\n",
    "unique_values = set(feature['properties']['MAP_CLASS_18'] for feature in data['features'])\n",
    "\n",
    "# Print unique values with one value per line\n",
    "for value in unique_values:\n",
    "    print(value)\n",
    "\n",
    "    # Convert unique values to a DataFrame\n",
    "df = pd.DataFrame(unique_values, columns=['Unique Values'])\n",
    "\n",
    "# Export DataFrame to Excel\n",
    "df.to_excel('unique_values.xlsx', index=False)"
   ]
  }
 ],
 "metadata": {
  "kernelspec": {
   "display_name": "Python 3",
   "language": "python",
   "name": "python3"
  },
  "language_info": {
   "codemirror_mode": {
    "name": "ipython",
    "version": 3
   },
   "file_extension": ".py",
   "mimetype": "text/x-python",
   "name": "python",
   "nbconvert_exporter": "python",
   "pygments_lexer": "ipython3",
   "version": "3.11.4"
  }
 },
 "nbformat": 4,
 "nbformat_minor": 2
}

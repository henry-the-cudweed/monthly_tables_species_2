{
 "cells": [
  {
   "cell_type": "code",
   "execution_count": 5,
   "metadata": {},
   "outputs": [
    {
     "name": "stderr",
     "output_type": "stream",
     "text": [
      "c:\\Users\\henry.inman\\AppData\\Local\\Programs\\Python\\Python311\\Lib\\site-packages\\openpyxl\\worksheet\\_reader.py:329: UserWarning: Sparkline Group extension is not supported and will be removed\n",
      "  warn(msg)\n"
     ]
    }
   ],
   "source": [
    "import pandas as pd\n",
    "\n",
    "# Load the Excel files into pandas dataframes\n",
    "priority_df = pd.read_excel(\"data inputs/priority invasive plants and visibility months.xlsx\")\n",
    "bordering_df = pd.read_excel(\"data inputs/species_outside_mgp_2024_calflora_search_bordering.xlsx\")\n",
    "present_mgp_df = pd.read_excel(\"data inputs/species_present_at_mgp_2024_calflora_search.xlsx\")\n",
    "\n",
    "# Add a 'Source' column to each dataframe and set initial values to None\n",
    "priority_df['Source'] = None\n",
    "bordering_df['Source'] = None\n",
    "present_mgp_df['Source'] = None\n",
    "\n",
    "# Merge the dataframes\n",
    "merged_df = pd.concat([priority_df, bordering_df, present_mgp_df])\n",
    "\n",
    "# Function to update 'Source' column based on conditions\n",
    "def update_source(row):\n",
    "    if row['Source'] is None:\n",
    "        if not pd.isnull(row['Species']) and row['Species'] in priority_df['Species'].values:\n",
    "            if not pd.isnull(row['Species']) and row['Species'] in present_mgp_df['Species'].values:\n",
    "                if not pd.isnull(row['Species']) and row['Species'] in bordering_df['Species'].values:\n",
    "                    row['Source'] = 'Priority List, at MGP and Bordering MGP'\n",
    "                else:\n",
    "                    row['Source'] = 'Priority List, locally contained at MGP'\n",
    "            elif not pd.isnull(row['Species']) and row['Species'] in bordering_df['Species'].values:\n",
    "                row['Source'] = 'Priority List, bordering MGP'\n",
    "            else:\n",
    "                row['Source'] = 'Priority List, not found at MGP or bordering'\n",
    "        elif not pd.isnull(row['Species']) and row['Species'] in bordering_df['Species'].values:\n",
    "            if row['Species'] in present_mgp_df['Species'].values:\n",
    "                row['Source'] = 'Calflora Search found both Bordering and Inside MGP'\n",
    "            else:\n",
    "                row['Source'] = 'Calflora Search Bordering MGP'\n",
    "        elif not pd.isnull(row['Species']) and row['Species'] in present_mgp_df['Species'].values:\n",
    "            row['Source'] = 'Calflora Search, locally contained at MGP'\n",
    "    return row\n",
    "\n",
    "# Apply the function to update the 'Source' column\n",
    "merged_df = merged_df.apply(update_source, axis=1)\n",
    "\n",
    "# Drop duplicate species\n",
    "merged_df.drop_duplicates(subset='Species', keep='first', inplace=True)\n",
    "\n",
    "# Reset index\n",
    "merged_df.reset_index(drop=True, inplace=True)\n",
    "\n",
    "# Save the merged dataframe to a new Excel file\n",
    "merged_df.to_excel(\"priority_and_cf_search_species.xlsx\", index=False)\n"
   ]
  },
  {
   "cell_type": "code",
   "execution_count": 10,
   "metadata": {},
   "outputs": [],
   "source": [
    "import pandas as pd\n",
    "\n",
    "# Load the merged species list\n",
    "priority = pd.read_excel(\"python generated excel files\\priority_and_cf_search_species.xlsx\")\n",
    "\n",
    "# Load the table without habitat species and debugging columns\n",
    "without_habitat_df = pd.read_excel(\"python generated excel files/without_habitat_species_and_debugging_columns.xlsx\")\n",
    "\n",
    "# Perform an inner join on the 'Species' column\n",
    "filtered_df = pd.merge(without_habitat_df, priority, on='Species', how='inner')\n",
    "\n",
    "# Rearrange the columns with \"Source\" as the second column\n",
    "columns = filtered_df.columns.tolist()\n",
    "columns.insert(1, columns.pop(columns.index('Source')))\n",
    "filtered_df = filtered_df[columns]\n",
    "\n",
    "# Save the filtered dataframe to a new Excel file\n",
    "filtered_df.to_excel(\"filtered_table.xlsx\", index=False)"
   ]
  }
 ],
 "metadata": {
  "kernelspec": {
   "display_name": "Python 3",
   "language": "python",
   "name": "python3"
  },
  "language_info": {
   "codemirror_mode": {
    "name": "ipython",
    "version": 3
   },
   "file_extension": ".py",
   "mimetype": "text/x-python",
   "name": "python",
   "nbconvert_exporter": "python",
   "pygments_lexer": "ipython3",
   "version": "3.11.4"
  }
 },
 "nbformat": 4,
 "nbformat_minor": 2
}

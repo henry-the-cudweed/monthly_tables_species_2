{
 "cells": [
  {
   "cell_type": "code",
   "execution_count": 23,
   "metadata": {},
   "outputs": [],
   "source": [
    "import pandas as pd\n",
    "from openpyxl import load_workbook\n",
    "from openpyxl.styles import PatternFill\n",
    "\n",
    "# Read Excel data into DataFrames\n",
    "df_species = pd.read_excel('species_present_at_mgp.xlsx')\n",
    "df_color_coded = pd.read_excel('invasive plant priorities and visibility months static copy.xlsx')\n",
    "\n",
    "# Remove spaces from column names\n",
    "df_species.columns = df_species.columns.str.replace(' ', '')\n",
    "df_color_coded.columns = df_color_coded.columns.str.replace(' ', '')\n",
    "\n",
    "# Merge tables based on species column\n",
    "merged_df = pd.merge(df_species, df_color_coded, on='Species', how='left')\n",
    "\n",
    "\n",
    "# Load existing workbook\n",
    "wb = load_workbook('invasive plant priorities and visibility months static copy.xlsx')\n",
    "ws = wb.active  # Assuming you're working with the active sheet\n",
    "\n",
    "# Create a summary table\n",
    "summary_table = merged_df.copy()  # Copy the merged DataFrame\n",
    "\n",
    "# Specify the columns to include in the summary table\n",
    "months = ['January', 'February', 'March', 'April', 'May', 'June', 'July', 'August', 'September', 'October', 'November', 'December']\n",
    "\n",
    "# Iterate over months and retrieve color-coded data\n",
    "for month in months:\n",
    "    # Find the column letter for the month in the original workbook\n",
    "    for col in ws.iter_cols(min_col=1, max_col=ws.max_column, min_row=1, max_row=1):\n",
    "        for cell in col:\n",
    "            if month.lower() in cell.value.lower():\n",
    "                col_letter = cell.column_letter\n",
    "                # Copy the cell values and colors to the summary table\n",
    "                for i, species in enumerate(df_species['Species']):\n",
    "                    if species in merged_df['Species'].values:\n",
    "                        val = merged_df.loc[merged_df['Species'] == species, month].iloc[0]\n",
    "                        summary_table.at[i, month + '_color'] = val\n",
    "                        summary_table.at[i, month + '_color_fill'] = cell.fill.start_color.rgb  # Store the color RGB value\n",
    "                    else:\n",
    "                        summary_table.at[i, month + '_color'] = 'Default Value'  # Filling missing data with a default value\n",
    "                        summary_table.at[i, month + '_color_fill'] = 'Default Color'  # Filling missing color with a default color\n",
    "                break  # Move to the next month\n",
    "        if month.lower() in cell.value.lower():\n",
    "            break  # Exit the loop if the month column is found\n",
    "# Save the modified workbook\n",
    "wb.save('summary_table.xlsx')\n"
   ]
  }
 ],
 "metadata": {
  "kernelspec": {
   "display_name": "Python 3",
   "language": "python",
   "name": "python3"
  },
  "language_info": {
   "codemirror_mode": {
    "name": "ipython",
    "version": 3
   },
   "file_extension": ".py",
   "mimetype": "text/x-python",
   "name": "python",
   "nbconvert_exporter": "python",
   "pygments_lexer": "ipython3",
   "version": "3.11.4"
  }
 },
 "nbformat": 4,
 "nbformat_minor": 2
}
